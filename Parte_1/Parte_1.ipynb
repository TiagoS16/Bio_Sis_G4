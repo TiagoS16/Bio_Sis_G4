{
 "cells": [
  {
   "cell_type": "markdown",
   "metadata": {},
   "source": [
    "Exercise (part 1) – implementation of FBA problem"
   ]
  },
  {
   "cell_type": "markdown",
   "metadata": {},
   "source": [
    "Consider the iML1515 stoichiometric model of Escherichia coli K-12 substr.\n",
    "MG1655 in SBML format (http://bigg.ucsd.edu/models/iML1515).\n",
    "The compound of interest for your group and oxygen conditions are available\n",
    "in the table below.\n",
    "Group 4: Formate(mmol/gDW/h), Oxygen(20 mmol/gDW/h), Glucose(15 mmol/gDW/h)"
   ]
  },
  {
   "cell_type": "markdown",
   "metadata": {},
   "source": [
    "1. What is the wild-type production of your group’s compound?"
   ]
  },
  {
   "cell_type": "code",
   "execution_count": null,
   "metadata": {},
   "outputs": [],
   "source": [
    "from mewpy.simulation import get_simulator\n",
    "from cobra.io import read_sbml_model\n",
    "model = read_sbml_model('iML1515.xml')\n",
    "print(model.summary())\n",
    "envcond = {'EX_o2_e': (-20.0, 100000.0), 'EX_glc__D_e': (-15.0,100000.0)}\n",
    "simul= get_simulator(model, envcond=envcond)\n",
    "result= simul.simulate(method='FBA')\n",
    "print(result.fluxes['EX_for_e'])"
   ]
  },
  {
   "cell_type": "markdown",
   "metadata": {},
   "source": [
    "Efetuando um Flux Balance Analysis (FBA) com as condições ambientais dadas, constatamos que a E.coli wild-type não produz formato."
   ]
  },
  {
   "cell_type": "markdown",
   "metadata": {},
   "source": [
    "2. What are the maximum compound production capabilities?"
   ]
  },
  {
   "cell_type": "code",
   "execution_count": null,
   "metadata": {},
   "outputs": [],
   "source": [
    "print(simul.FVA(reactions=['EX_for_e'], format='df'))"
   ]
  },
  {
   "cell_type": "markdown",
   "metadata": {},
   "source": [
    "Efetuando um Flux Variability Analysis (FVA) com as condições ambientais dadas, observamos que este modelo consegue produzir um máximo de 28,29(fluxo) de formato."
   ]
  },
  {
   "cell_type": "markdown",
   "metadata": {},
   "source": [
    "3. Use different optimization objective functions to improve the production\n",
    "   of the compound, considering that cells have evolved for maximum\n",
    "   growth."
   ]
  },
  {
   "cell_type": "markdown",
   "metadata": {},
   "source": [
    "    a.Evaluate if single gene deletions enhance the production of the\n",
    "    compound. Rank the mutants obtained according to the\n",
    "    compound production capacity and growth performance."
   ]
  },
  {
   "cell_type": "code",
   "execution_count": null,
   "metadata": {},
   "outputs": [],
   "source": [
    "PRODUCT_ID = 'EX_for_e'\n",
    "BIOMASS_ID = 'BIOMASS_Ec_iML1515_core_75p37M'\n",
    "from mewpy.optimization.evaluation import BPCY, TargetFlux\n",
    "evaluator_1 = BPCY(BIOMASS_ID, PRODUCT_ID, method='pFBA')\n",
    "evaluator_2 = TargetFlux(PRODUCT_ID)\n",
    "from mewpy.problems import GKOProblem #gene knockout\n",
    "problem = GKOProblem(model, fevaluation=[evaluator_1, evaluator_2], envcond=envcond, candidate_max_size=1)\n",
    "from mewpy.optimization import EA\n",
    "mutante = EA(problem, max_generations=50, visualizer=True)\n",
    "mutante_run= mutante.run()\n",
    "print(mutante_run)\n",
    "from mewpy.utils.constants import ModelConstants\n",
    "ModelConstants.RESET_SOLVER = True"
   ]
  },
  {
   "cell_type": "markdown",
   "metadata": {},
   "source": [
    "Após efetuar uma simulação com o objetivo de maximizar a produção de formato e executando a deleção de um gene, observou-se que a produção de formato não aumenta.\n",
    "Segundo a simulação, o nocaute do gene b3733 resulta num fluxo de 11,42, utilizando a função de avaliação BCPY (Biomass-Product Coupled Yield). Este é inferior ao fluxo extrapolado na FVA, o que indica que realizar a deleção de apenas um gene, não trará vantagens à produção de formato."
   ]
  },
  {
   "cell_type": "markdown",
   "metadata": {},
   "source": [
    "    b. Determine the best strategy, up to five modifications, to improve\n",
    "       the compound production."
   ]
  },
  {
   "cell_type": "code",
   "execution_count": null,
   "metadata": {},
   "outputs": [],
   "source": [
    "PRODUCT_ID = 'EX_for_e'\n",
    "BIOMASS_ID = 'BIOMASS_Ec_iML1515_core_75p37M'\n",
    "from mewpy.optimization.evaluation import BPCY, TargetFlux\n",
    "evaluator_1 = BPCY(BIOMASS_ID, PRODUCT_ID, method='pFBA')\n",
    "evaluator_2 = TargetFlux(PRODUCT_ID)\n",
    "from mewpy.problems import RKOProblem\n",
    "problem = RKOProblem(model, fevaluation=[evaluator_1, evaluator_2], envcond=envcond, candidate_max_size=5)\n",
    "from mewpy.optimization import EA\n",
    "mutante2 = EA(problem, max_generations=50, visualizer=True)\n",
    "mutante_run2= mutante2.run()\n",
    "print(mutante_run2)\n",
    "from mewpy.utils.constants import ModelConstants\n",
    "ModelConstants.RESET_SOLVER = True"
   ]
  },
  {
   "cell_type": "markdown",
   "metadata": {},
   "source": [
    "A melhor estratégia para aumentar a produção de formato seria fazer um nocaute a 4 reações (H2Otex, SGDS, CRNBTCT e PLIPA2A180pp), que resultaria num fluxo de 49.36, valor este superior ao obtido no FVA wild-type."
   ]
  },
  {
   "cell_type": "markdown",
   "metadata": {},
   "source": [
    "4. Analyse the strategies proposed by your optimization, from the\n",
    "   metabolic viewpoint. Would it be feasible to implement this strategy in\n",
    "   the lab? Why?"
   ]
  },
  {
   "cell_type": "markdown",
   "metadata": {},
   "source": [
    "De acordo com as simulações efetuadas, a estratégia que resultava numa maior produção de formato seria efetuar o nocaute de 4 reações.\n",
    "Esta estratégia não parece viável para se executar num laboratório devido à elevada complexidade envolvida neste processo.\n"
   ]
  }
 ],
 "metadata": {
  "kernelspec": {
   "display_name": "Python 3",
   "language": "python",
   "name": "python3"
  },
  "language_info": {
   "codemirror_mode": {
    "name": "ipython",
    "version": 3
   },
   "file_extension": ".py",
   "mimetype": "text/x-python",
   "name": "python",
   "nbconvert_exporter": "python",
   "pygments_lexer": "ipython3",
   "version": "3.8.3"
  }
 },
 "nbformat": 4,
 "nbformat_minor": 4
}