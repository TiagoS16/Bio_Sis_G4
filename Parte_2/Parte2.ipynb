{
 "cells": [
  {
   "cell_type": "markdown",
   "metadata": {
    "collapsed": true,
    "pycharm": {
     "name": "#%% md\n"
    }
   },
   "source": [
    "a) Study the organism and discuss the diseases it can cause and known\n",
    "drugs and virulence factors.\n"
   ]
  },
  {
   "cell_type": "code",
   "source": [],
   "metadata": {
    "collapsed": false,
    "pycharm": {
     "name": "#%%\n"
    }
   },
   "execution_count": null,
   "outputs": []
  },
  {
   "cell_type": "markdown",
   "source": [
    "b) Compute the specific growth rate under adequate conditions for your\n",
    "organism? What are the main products excreted under each of those\n",
    "circumstances?"
   ],
   "metadata": {
    "collapsed": false
   }
  },
  {
   "cell_type": "code",
   "execution_count": 1,
   "outputs": [
    {
     "name": "stdout",
     "output_type": "stream",
     "text": [
      "Objective\n",
      "=========\n",
      "1.0 BIOMASS_KT_TEMP = 1.4\n",
      "\n",
      "Uptake\n",
      "------\n",
      "Metabolite      Reaction   Flux  C-Number  C-Flux\n",
      "     fe2_e      EX_fe2_e 0.0014         0   0.00%\n",
      "  glc__D_e   EX_glc__D_e  8.262         6  87.72%\n",
      "     nh4_e      EX_nh4_e  14.44         0   0.00%\n",
      "      o2_e       EX_o2_e  4.065         0   0.00%\n",
      "      pi_e       EX_pi_e  1.072         0   0.00%\n",
      "     so4_e      EX_so4_e 0.3263         0   0.00%\n",
      "  mhpglu_c  SK_5mthglu_c 0.2744        25  12.14%\n",
      " dna5mtc_c  SK_dna5mtc_c  0.007        11   0.14%\n",
      "\n",
      "Secretion\n",
      "---------\n",
      "Metabolite     Reaction    Flux  C-Number  C-Flux\n",
      "     co2_e     EX_co2_e  -2.919         1  28.15%\n",
      "  glyclt_e  EX_glyclt_e   -0.07         2   1.35%\n",
      "     h2o_e     EX_h2o_e  -30.52         0   0.00%\n",
      "       h_e       EX_h_e  -13.31         0   0.00%\n",
      "    hco3_e    EX_hco3_e -0.6526         1   6.29%\n",
      "     dna_c     SK_dna_c  -0.007        10   0.68%\n",
      "   hpglu_c   SK_thglu_c -0.2744        24  63.52%\n",
      "\n",
      "<Solution 1.400 at 0x1badff26108>\n"
     ]
    }
   ],
   "source": [],
   "metadata": {
    "collapsed": false,
    "pycharm": {
     "name": "#%%\n"
    }
   }
  },
  {
   "cell_type": "markdown",
   "source": [
    "c) List all genes/reactions that can be potential drug targets.\n"
   ],
   "metadata": {
    "collapsed": false
   }
  },
  {
   "cell_type": "code",
   "execution_count": null,
   "outputs": [],
   "source": [],
   "metadata": {
    "collapsed": false,
    "pycharm": {
     "name": "#%%\n"
    }
   }
  },
  {
   "cell_type": "markdown",
   "source": [
    "d) Discuss two of these genes/reactions and the corresponding drug.\n",
    "Select one present in the host and one absent. Include in the\n",
    "discussion facts regarding potential side effects of the drug on other\n",
    "reactions.\n"
   ],
   "metadata": {
    "collapsed": false
   }
  }
 ],
 "metadata": {
  "kernelspec": {
   "name": "pycharm-60752a2e",
   "language": "python",
   "display_name": "PyCharm (github)"
  },
  "language_info": {
   "codemirror_mode": {
    "name": "ipython",
    "version": 2
   },
   "file_extension": ".py",
   "mimetype": "text/x-python",
   "name": "python",
   "nbconvert_exporter": "python",
   "pygments_lexer": "ipython2",
   "version": "2.7.6"
  }
 },
 "nbformat": 4,
 "nbformat_minor": 0
}